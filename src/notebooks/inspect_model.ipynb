{
 "cells": [
  {
   "cell_type": "code",
   "execution_count": 1,
   "id": "80ba0eea",
   "metadata": {},
   "outputs": [],
   "source": [
    "import numpy as np\n",
    "import torch\n",
    "from torchviz import make_dot\n",
    "from argparse import Namespace\n",
    "import json\n",
    "import matplotlib.pyplot as plt\n",
    "\n",
    "import sys, os\n",
    "\n",
    "src_root = os.path.abspath(os.path.join(os.getcwd(), os.pardir, os.pardir))\n",
    "\n",
    "sys.path.insert(0, src_root)\n",
    "\n",
    "from src.models.SINDyConvAE_o2 import Net\n",
    "from src.utils.model_utils import sindy_library, build_equation_labels"
   ]
  },
  {
   "cell_type": "code",
   "execution_count": 2,
   "id": "07819dbf",
   "metadata": {},
   "outputs": [],
   "source": [
    "sess_name = '05-25-2025_0'\n",
    "args_path = f'/home/jared/Projects/SINDy/SINDy_Autoencoder_PyTorch_EP/trained_models/elastic_pendulum/SINDyConvAE_o2/{sess_name}/args.txt'\n",
    "cp_path = f'/home/jared/Projects/SINDy/SINDy_Autoencoder_PyTorch_EP/trained_models/elastic_pendulum/SINDyConvAE_o2/{sess_name}/checkpoint.pt'"
   ]
  },
  {
   "cell_type": "code",
   "execution_count": 3,
   "id": "4b126716",
   "metadata": {},
   "outputs": [
    {
     "name": "stdout",
     "output_type": "stream",
     "text": [
      "{'session_name': '05-25-2025_0', 'model': 'SINDyConvAE_o2', 'experiments': './experiments/', 'model_folder': './trained_models/', 'tensorboard_folder': './tb_runs/', 'data_set': 'elastic_pendulum', 'z_dim': 2, 'u_dim': 2601, 'hidden_dims': [128, 64, 32], 'use_inverse': True, 'use_sine': True, 'use_cosine': True, 'poly_order': 3, 'include_constant': True, 'nonlinearity': 'elu', 'epochs': 500, 'learning_rate': 0.001, 'adam_regularization': 1e-05, 'gamma_factor': 0.995, 'batch_size': 30, 'lambda_ddx': 0.0, 'lambda_ddz': 0.0, 'lambda_reg': 0.0, 'clip': None, 'test_interval': 1, 'checkpoint_interval': 1, 'sequential_threshold': 0.05, 'spring_constant': 24.0, 'mass': 1.0, 'natural_length': 1.0, 'gravitational_acceleration': 9.81, 'train_initial_conds': 200, 'val_initial_conds': 20, 'test_initial_conds': 20, 'timesteps': 500, 'load_cp': 0, 'device': 0, 'print_folder': 1}\n"
     ]
    }
   ],
   "source": [
    "args = json.load(open(args_path, 'r'))\n",
    "args = Namespace(**args)\n",
    "print(args.__dict__)"
   ]
  },
  {
   "cell_type": "code",
   "execution_count": 4,
   "id": "de1a19e5",
   "metadata": {},
   "outputs": [],
   "source": [
    "torch.cuda.set_device(args.device)\n",
    "device = torch.cuda.current_device()"
   ]
  },
  {
   "cell_type": "code",
   "execution_count": 5,
   "id": "63aea0fc",
   "metadata": {},
   "outputs": [
    {
     "name": "stderr",
     "output_type": "stream",
     "text": [
      "/tmp/ipykernel_916071/2322887591.py:2: FutureWarning: You are using `torch.load` with `weights_only=False` (the current default value), which uses the default pickle module implicitly. It is possible to construct malicious pickle data which will execute arbitrary code during unpickling (See https://github.com/pytorch/pytorch/blob/main/SECURITY.md#untrusted-models for more details). In a future release, the default value for `weights_only` will be flipped to `True`. This limits the functions that could be executed during unpickling. Arbitrary objects will no longer be allowed to be loaded via this mode unless they are explicitly allowlisted by the user via `torch.serialization.add_safe_globals`. We recommend you start setting `weights_only=True` for any use case where you don't have full control of the loaded file. Please open an issue on GitHub for any issues related to this experimental feature.\n",
      "  checkpoint = torch.load(cp_path, map_location=\"cuda:\" + str(device))\n"
     ]
    },
    {
     "data": {
      "text/plain": [
       "Net(\n",
       "  (mse): MSELoss()\n",
       "  (enc1): Conv2d(1, 16, kernel_size=(5, 5), stride=(2, 2), padding=(2, 2))\n",
       "  (enc2): Conv2d(16, 32, kernel_size=(5, 5), stride=(2, 2), padding=(2, 2))\n",
       "  (enc3): Conv2d(32, 64, kernel_size=(5, 5), stride=(2, 2), padding=(2, 2))\n",
       "  (fc_enc): Linear(in_features=3136, out_features=2, bias=True)\n",
       "  (fc_dec): Linear(in_features=2, out_features=3136, bias=True)\n",
       "  (dec1): ConvTranspose2d(64, 32, kernel_size=(5, 5), stride=(2, 2), padding=(2, 2))\n",
       "  (dec2): ConvTranspose2d(32, 16, kernel_size=(5, 5), stride=(2, 2), padding=(2, 2), output_padding=(1, 1))\n",
       "  (dec3): ConvTranspose2d(16, 1, kernel_size=(5, 5), stride=(2, 2), padding=(2, 2))\n",
       ")"
      ]
     },
     "execution_count": 5,
     "metadata": {},
     "output_type": "execute_result"
    }
   ],
   "source": [
    "net = Net(args)\n",
    "checkpoint = torch.load(cp_path, map_location=\"cuda:\" + str(device))\n",
    "net.load_state_dict(checkpoint['model'])\n",
    "net.to(device)"
   ]
  },
  {
   "cell_type": "code",
   "execution_count": 6,
   "id": "290f02dc",
   "metadata": {},
   "outputs": [
    {
     "data": {
      "text/plain": [
       "dict_keys(['t', 'x', 'dx', 'ddx', 'z', 'dz'])"
      ]
     },
     "execution_count": 6,
     "metadata": {},
     "output_type": "execute_result"
    }
   ],
   "source": [
    "test = np.load('/home/jared/Projects/SINDy/SINDy_Autoencoder_PyTorch_EP/data/elastic_pendulum/test.npy', allow_pickle=True)\n",
    "test = test.item()\n",
    "test.keys()"
   ]
  },
  {
   "cell_type": "code",
   "execution_count": 7,
   "id": "461c4dc2",
   "metadata": {},
   "outputs": [],
   "source": [
    "num_samples = 100\n",
    "\n",
    "x = torch.Tensor(test['x'][:num_samples]).to(device)\n",
    "dx = torch.Tensor(test['dx'][:num_samples]).to(device)\n",
    "ddx = torch.Tensor(test['ddx'][:num_samples]).to(device)\n",
    "\n",
    "lambdas = args.lambda_ddx, args.lambda_ddz, args.lambda_reg"
   ]
  },
  {
   "cell_type": "code",
   "execution_count": 8,
   "id": "03a012f2",
   "metadata": {},
   "outputs": [
    {
     "data": {
      "text/plain": [
       "(tensor(0.0010, device='cuda:0', grad_fn=<MeanBackward0>),\n",
       " tensor(0., device='cuda:0'),\n",
       " tensor(0., device='cuda:0'),\n",
       " tensor(0., device='cuda:0'))"
      ]
     },
     "execution_count": 8,
     "metadata": {},
     "output_type": "execute_result"
    }
   ],
   "source": [
    "net(x, dx, ddx, lambdas)"
   ]
  },
  {
   "cell_type": "code",
   "execution_count": 9,
   "id": "0b4608c4",
   "metadata": {},
   "outputs": [
    {
     "data": {
      "image/png": "[encoded data removed]",
      "text/plain": [
       "<Figure size 1000x500 with 2 Axes>"
      ]
     },
     "metadata": {},
     "output_type": "display_data"
    }
   ],
   "source": [
    "frame = 77\n",
    "\n",
    "x_frame = x[frame].view(net.u_w, net.u_w).detach().cpu().numpy()\n",
    "x_recon_frame = net.decoder(net.encoder(x[frame])).view(net.u_w, net.u_w).detach().cpu().numpy()\n",
    "\n",
    "fig, axes = plt.subplots(1, 2, figsize=(10, 5))  # 1 row, 2 columns\n",
    "\n",
    "axes[0].imshow(x_frame, cmap='gray', origin='lower', vmin=0, vmax=1)\n",
    "axes[0].axis('off')\n",
    "axes[0].set_title(\"x\")\n",
    "axes[1].imshow(x_recon_frame, cmap='gray', origin='lower', vmin=0, vmax=1)\n",
    "axes[1].axis('off')\n",
    "axes[1].set_title(\"x_recon\")\n",
    "\n",
    "plt.show()"
   ]
  },
  {
   "cell_type": "code",
   "execution_count": 10,
   "id": "59ac4e4c",
   "metadata": {},
   "outputs": [
    {
     "data": {
      "text/plain": [
       "tensor(0.0004, device='cuda:0', grad_fn=<MseLossBackward0>)"
      ]
     },
     "execution_count": 10,
     "metadata": {},
     "output_type": "execute_result"
    }
   ],
   "source": [
    "net.mse(x[frame].view(-1, net.u_dim), net.decoder(net.encoder(x[frame])))"
   ]
  },
  {
   "cell_type": "code",
   "execution_count": 11,
   "id": "86c33f76",
   "metadata": {},
   "outputs": [
    {
     "data": {
      "text/plain": [
       "(np.float32(-0.14980173), np.float32(0.8992975))"
      ]
     },
     "execution_count": 11,
     "metadata": {},
     "output_type": "execute_result"
    }
   ],
   "source": [
    "np.min(x_recon_frame), np.max(x_recon_frame)"
   ]
  },
  {
   "cell_type": "code",
   "execution_count": 12,
   "id": "5c1b240d",
   "metadata": {},
   "outputs": [
    {
     "data": {
      "text/plain": [
       "(tensor(0.0010, device='cuda:0', grad_fn=<MeanBackward0>),\n",
       " tensor(0., device='cuda:0'),\n",
       " tensor(0., device='cuda:0'),\n",
       " tensor(0., device='cuda:0'))"
      ]
     },
     "execution_count": 12,
     "metadata": {},
     "output_type": "execute_result"
    }
   ],
   "source": [
    "x_pred = net(x, dx, ddx, lambdas)\n",
    "x_pred"
   ]
  },
  {
   "cell_type": "code",
   "execution_count": 13,
   "id": "da86ff8d",
   "metadata": {},
   "outputs": [
    {
     "data": {
      "text/plain": [
       "'AE.png'"
      ]
     },
     "execution_count": 13,
     "metadata": {},
     "output_type": "execute_result"
    }
   ],
   "source": [
    "make_dot(x_pred[0], params=dict(net.named_parameters())).render(\"AE\", format=\"png\")"
   ]
  },
  {
   "cell_type": "code",
   "execution_count": 14,
   "id": "19c637eb",
   "metadata": {},
   "outputs": [],
   "source": [
    "z = torch.Tensor(test['z'][:5]).to(device)\n",
    "dz = torch.Tensor(test['dz'][:5]).to(device)"
   ]
  },
  {
   "cell_type": "code",
   "execution_count": 15,
   "id": "60b67749",
   "metadata": {},
   "outputs": [
    {
     "data": {
      "text/plain": [
       "(['1',\n",
       "  'X',\n",
       "  'Y',\n",
       "  'Xdot',\n",
       "  'Ydot',\n",
       "  '1/X',\n",
       "  '1/Y',\n",
       "  'sin(X)',\n",
       "  'sin(Y)',\n",
       "  'cos(X)',\n",
       "  'cos(Y)',\n",
       "  'X*X',\n",
       "  'X*Y',\n",
       "  'X*Xdot',\n",
       "  'X*Ydot',\n",
       "  'X*1/X',\n",
       "  'X*1/Y',\n",
       "  'X*sin(X)',\n",
       "  'X*sin(Y)',\n",
       "  'X*cos(X)',\n",
       "  'X*cos(Y)',\n",
       "  'Y*Y',\n",
       "  'Y*Xdot',\n",
       "  'Y*Ydot',\n",
       "  'Y*1/X',\n",
       "  'Y*1/Y',\n",
       "  'Y*sin(X)',\n",
       "  'Y*sin(Y)',\n",
       "  'Y*cos(X)',\n",
       "  'Y*cos(Y)',\n",
       "  'Xdot*Xdot',\n",
       "  'Xdot*Ydot',\n",
       "  'Xdot*1/X',\n",
       "  'Xdot*1/Y',\n",
       "  'Xdot*sin(X)',\n",
       "  'Xdot*sin(Y)',\n",
       "  'Xdot*cos(X)',\n",
       "  'Xdot*cos(Y)',\n",
       "  'Ydot*Ydot',\n",
       "  'Ydot*1/X',\n",
       "  'Ydot*1/Y',\n",
       "  'Ydot*sin(X)',\n",
       "  'Ydot*sin(Y)',\n",
       "  'Ydot*cos(X)',\n",
       "  'Ydot*cos(Y)',\n",
       "  '1/X*1/X',\n",
       "  '1/X*1/Y',\n",
       "  '1/X*sin(X)',\n",
       "  '1/X*sin(Y)',\n",
       "  '1/X*cos(X)',\n",
       "  '1/X*cos(Y)',\n",
       "  '1/Y*1/Y',\n",
       "  '1/Y*sin(X)',\n",
       "  '1/Y*sin(Y)',\n",
       "  '1/Y*cos(X)',\n",
       "  '1/Y*cos(Y)',\n",
       "  'sin(X)*sin(X)',\n",
       "  'sin(X)*sin(Y)',\n",
       "  'sin(X)*cos(X)',\n",
       "  'sin(X)*cos(Y)',\n",
       "  'sin(Y)*sin(Y)',\n",
       "  'sin(Y)*cos(X)',\n",
       "  'sin(Y)*cos(Y)',\n",
       "  'cos(X)*cos(X)',\n",
       "  'cos(X)*cos(Y)',\n",
       "  'cos(Y)*cos(Y)',\n",
       "  'X*X*X',\n",
       "  'X*X*Y',\n",
       "  'X*X*Xdot',\n",
       "  'X*X*Ydot',\n",
       "  'X*X*1/X',\n",
       "  'X*X*1/Y',\n",
       "  'X*X*sin(X)',\n",
       "  'X*X*sin(Y)',\n",
       "  'X*X*cos(X)',\n",
       "  'X*X*cos(Y)',\n",
       "  'X*Y*Y',\n",
       "  'X*Y*Xdot',\n",
       "  'X*Y*Ydot',\n",
       "  'X*Y*1/X',\n",
       "  'X*Y*1/Y',\n",
       "  'X*Y*sin(X)',\n",
       "  'X*Y*sin(Y)',\n",
       "  'X*Y*cos(X)',\n",
       "  'X*Y*cos(Y)',\n",
       "  'X*Xdot*Xdot',\n",
       "  'X*Xdot*Ydot',\n",
       "  'X*Xdot*1/X',\n",
       "  'X*Xdot*1/Y',\n",
       "  'X*Xdot*sin(X)',\n",
       "  'X*Xdot*sin(Y)',\n",
       "  'X*Xdot*cos(X)',\n",
       "  'X*Xdot*cos(Y)',\n",
       "  'X*Ydot*Ydot',\n",
       "  'X*Ydot*1/X',\n",
       "  'X*Ydot*1/Y',\n",
       "  'X*Ydot*sin(X)',\n",
       "  'X*Ydot*sin(Y)',\n",
       "  'X*Ydot*cos(X)',\n",
       "  'X*Ydot*cos(Y)',\n",
       "  'X*1/X*1/X',\n",
       "  'X*1/X*1/Y',\n",
       "  'X*1/X*sin(X)',\n",
       "  'X*1/X*sin(Y)',\n",
       "  'X*1/X*cos(X)',\n",
       "  'X*1/X*cos(Y)',\n",
       "  'X*1/Y*1/Y',\n",
       "  'X*1/Y*sin(X)',\n",
       "  'X*1/Y*sin(Y)',\n",
       "  'X*1/Y*cos(X)',\n",
       "  'X*1/Y*cos(Y)',\n",
       "  'X*sin(X)*sin(X)',\n",
       "  'X*sin(X)*sin(Y)',\n",
       "  'X*sin(X)*cos(X)',\n",
       "  'X*sin(X)*cos(Y)',\n",
       "  'X*sin(Y)*sin(Y)',\n",
       "  'X*sin(Y)*cos(X)',\n",
       "  'X*sin(Y)*cos(Y)',\n",
       "  'X*cos(X)*cos(X)',\n",
       "  'X*cos(X)*cos(Y)',\n",
       "  'X*cos(Y)*cos(Y)',\n",
       "  'Y*Y*Y',\n",
       "  'Y*Y*Xdot',\n",
       "  'Y*Y*Ydot',\n",
       "  'Y*Y*1/X',\n",
       "  'Y*Y*1/Y',\n",
       "  'Y*Y*sin(X)',\n",
       "  'Y*Y*sin(Y)',\n",
       "  'Y*Y*cos(X)',\n",
       "  'Y*Y*cos(Y)',\n",
       "  'Y*Xdot*Xdot',\n",
       "  'Y*Xdot*Ydot',\n",
       "  'Y*Xdot*1/X',\n",
       "  'Y*Xdot*1/Y',\n",
       "  'Y*Xdot*sin(X)',\n",
       "  'Y*Xdot*sin(Y)',\n",
       "  'Y*Xdot*cos(X)',\n",
       "  'Y*Xdot*cos(Y)',\n",
       "  'Y*Ydot*Ydot',\n",
       "  'Y*Ydot*1/X',\n",
       "  'Y*Ydot*1/Y',\n",
       "  'Y*Ydot*sin(X)',\n",
       "  'Y*Ydot*sin(Y)',\n",
       "  'Y*Ydot*cos(X)',\n",
       "  'Y*Ydot*cos(Y)',\n",
       "  'Y*1/X*1/X',\n",
       "  'Y*1/X*1/Y',\n",
       "  'Y*1/X*sin(X)',\n",
       "  'Y*1/X*sin(Y)',\n",
       "  'Y*1/X*cos(X)',\n",
       "  'Y*1/X*cos(Y)',\n",
       "  'Y*1/Y*1/Y',\n",
       "  'Y*1/Y*sin(X)',\n",
       "  'Y*1/Y*sin(Y)',\n",
       "  'Y*1/Y*cos(X)',\n",
       "  'Y*1/Y*cos(Y)',\n",
       "  'Y*sin(X)*sin(X)',\n",
       "  'Y*sin(X)*sin(Y)',\n",
       "  'Y*sin(X)*cos(X)',\n",
       "  'Y*sin(X)*cos(Y)',\n",
       "  'Y*sin(Y)*sin(Y)',\n",
       "  'Y*sin(Y)*cos(X)',\n",
       "  'Y*sin(Y)*cos(Y)',\n",
       "  'Y*cos(X)*cos(X)',\n",
       "  'Y*cos(X)*cos(Y)',\n",
       "  'Y*cos(Y)*cos(Y)',\n",
       "  'Xdot*Xdot*Xdot',\n",
       "  'Xdot*Xdot*Ydot',\n",
       "  'Xdot*Xdot*1/X',\n",
       "  'Xdot*Xdot*1/Y',\n",
       "  'Xdot*Xdot*sin(X)',\n",
       "  'Xdot*Xdot*sin(Y)',\n",
       "  'Xdot*Xdot*cos(X)',\n",
       "  'Xdot*Xdot*cos(Y)',\n",
       "  'Xdot*Ydot*Ydot',\n",
       "  'Xdot*Ydot*1/X',\n",
       "  'Xdot*Ydot*1/Y',\n",
       "  'Xdot*Ydot*sin(X)',\n",
       "  'Xdot*Ydot*sin(Y)',\n",
       "  'Xdot*Ydot*cos(X)',\n",
       "  'Xdot*Ydot*cos(Y)',\n",
       "  'Xdot*1/X*1/X',\n",
       "  'Xdot*1/X*1/Y',\n",
       "  'Xdot*1/X*sin(X)',\n",
       "  'Xdot*1/X*sin(Y)',\n",
       "  'Xdot*1/X*cos(X)',\n",
       "  'Xdot*1/X*cos(Y)',\n",
       "  'Xdot*1/Y*1/Y',\n",
       "  'Xdot*1/Y*sin(X)',\n",
       "  'Xdot*1/Y*sin(Y)',\n",
       "  'Xdot*1/Y*cos(X)',\n",
       "  'Xdot*1/Y*cos(Y)',\n",
       "  'Xdot*sin(X)*sin(X)',\n",
       "  'Xdot*sin(X)*sin(Y)',\n",
       "  'Xdot*sin(X)*cos(X)',\n",
       "  'Xdot*sin(X)*cos(Y)',\n",
       "  'Xdot*sin(Y)*sin(Y)',\n",
       "  'Xdot*sin(Y)*cos(X)',\n",
       "  'Xdot*sin(Y)*cos(Y)',\n",
       "  'Xdot*cos(X)*cos(X)',\n",
       "  'Xdot*cos(X)*cos(Y)',\n",
       "  'Xdot*cos(Y)*cos(Y)',\n",
       "  'Ydot*Ydot*Ydot',\n",
       "  'Ydot*Ydot*1/X',\n",
       "  'Ydot*Ydot*1/Y',\n",
       "  'Ydot*Ydot*sin(X)',\n",
       "  'Ydot*Ydot*sin(Y)',\n",
       "  'Ydot*Ydot*cos(X)',\n",
       "  'Ydot*Ydot*cos(Y)',\n",
       "  'Ydot*1/X*1/X',\n",
       "  'Ydot*1/X*1/Y',\n",
       "  'Ydot*1/X*sin(X)',\n",
       "  'Ydot*1/X*sin(Y)',\n",
       "  'Ydot*1/X*cos(X)',\n",
       "  'Ydot*1/X*cos(Y)',\n",
       "  'Ydot*1/Y*1/Y',\n",
       "  'Ydot*1/Y*sin(X)',\n",
       "  'Ydot*1/Y*sin(Y)',\n",
       "  'Ydot*1/Y*cos(X)',\n",
       "  'Ydot*1/Y*cos(Y)',\n",
       "  'Ydot*sin(X)*sin(X)',\n",
       "  'Ydot*sin(X)*sin(Y)',\n",
       "  'Ydot*sin(X)*cos(X)',\n",
       "  'Ydot*sin(X)*cos(Y)',\n",
       "  'Ydot*sin(Y)*sin(Y)',\n",
       "  'Ydot*sin(Y)*cos(X)',\n",
       "  'Ydot*sin(Y)*cos(Y)',\n",
       "  'Ydot*cos(X)*cos(X)',\n",
       "  'Ydot*cos(X)*cos(Y)',\n",
       "  'Ydot*cos(Y)*cos(Y)',\n",
       "  '1/X*1/X*1/X',\n",
       "  '1/X*1/X*1/Y',\n",
       "  '1/X*1/X*sin(X)',\n",
       "  '1/X*1/X*sin(Y)',\n",
       "  '1/X*1/X*cos(X)',\n",
       "  '1/X*1/X*cos(Y)',\n",
       "  '1/X*1/Y*1/Y',\n",
       "  '1/X*1/Y*sin(X)',\n",
       "  '1/X*1/Y*sin(Y)',\n",
       "  '1/X*1/Y*cos(X)',\n",
       "  '1/X*1/Y*cos(Y)',\n",
       "  '1/X*sin(X)*sin(X)',\n",
       "  '1/X*sin(X)*sin(Y)',\n",
       "  '1/X*sin(X)*cos(X)',\n",
       "  '1/X*sin(X)*cos(Y)',\n",
       "  '1/X*sin(Y)*sin(Y)',\n",
       "  '1/X*sin(Y)*cos(X)',\n",
       "  '1/X*sin(Y)*cos(Y)',\n",
       "  '1/X*cos(X)*cos(X)',\n",
       "  '1/X*cos(X)*cos(Y)',\n",
       "  '1/X*cos(Y)*cos(Y)',\n",
       "  '1/Y*1/Y*1/Y',\n",
       "  '1/Y*1/Y*sin(X)',\n",
       "  '1/Y*1/Y*sin(Y)',\n",
       "  '1/Y*1/Y*cos(X)',\n",
       "  '1/Y*1/Y*cos(Y)',\n",
       "  '1/Y*sin(X)*sin(X)',\n",
       "  '1/Y*sin(X)*sin(Y)',\n",
       "  '1/Y*sin(X)*cos(X)',\n",
       "  '1/Y*sin(X)*cos(Y)',\n",
       "  '1/Y*sin(Y)*sin(Y)',\n",
       "  '1/Y*sin(Y)*cos(X)',\n",
       "  '1/Y*sin(Y)*cos(Y)',\n",
       "  '1/Y*cos(X)*cos(X)',\n",
       "  '1/Y*cos(X)*cos(Y)',\n",
       "  '1/Y*cos(Y)*cos(Y)',\n",
       "  'sin(X)*sin(X)*sin(X)',\n",
       "  'sin(X)*sin(X)*sin(Y)',\n",
       "  'sin(X)*sin(X)*cos(X)',\n",
       "  'sin(X)*sin(X)*cos(Y)',\n",
       "  'sin(X)*sin(Y)*sin(Y)',\n",
       "  'sin(X)*sin(Y)*cos(X)',\n",
       "  'sin(X)*sin(Y)*cos(Y)',\n",
       "  'sin(X)*cos(X)*cos(X)',\n",
       "  'sin(X)*cos(X)*cos(Y)',\n",
       "  'sin(X)*cos(Y)*cos(Y)',\n",
       "  'sin(Y)*sin(Y)*sin(Y)',\n",
       "  'sin(Y)*sin(Y)*cos(X)',\n",
       "  'sin(Y)*sin(Y)*cos(Y)',\n",
       "  'sin(Y)*cos(X)*cos(X)',\n",
       "  'sin(Y)*cos(X)*cos(Y)',\n",
       "  'sin(Y)*cos(Y)*cos(Y)',\n",
       "  'cos(X)*cos(X)*cos(X)',\n",
       "  'cos(X)*cos(X)*cos(Y)',\n",
       "  'cos(X)*cos(Y)*cos(Y)',\n",
       "  'cos(Y)*cos(Y)*cos(Y)'],\n",
       " 286)"
      ]
     },
     "execution_count": 15,
     "metadata": {},
     "output_type": "execute_result"
    }
   ],
   "source": [
    "labels = build_equation_labels(2, 3, True, True, True, True)\n",
    "labels, len(labels)"
   ]
  },
  {
   "cell_type": "code",
   "execution_count": null,
   "id": "e3931d37",
   "metadata": {},
   "outputs": [],
   "source": []
  }
 ],
 "metadata": {
  "kernelspec": {
   "display_name": "sindy",
   "language": "python",
   "name": "python3"
  },
  "language_info": {
   "codemirror_mode": {
    "name": "ipython",
    "version": 3
   },
   "file_extension": ".py",
   "mimetype": "text/x-python",
   "name": "python",
   "nbconvert_exporter": "python",
   "pygments_lexer": "ipython3",
   "version": "3.12.7"
  }
 },
 "nbformat": 4,
 "nbformat_minor": 5
}
